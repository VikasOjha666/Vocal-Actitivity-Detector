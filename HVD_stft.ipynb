{
 "cells": [
  {
   "cell_type": "code",
   "execution_count": 2,
   "metadata": {},
   "outputs": [
    {
     "name": "stderr",
     "output_type": "stream",
     "text": [
      "Using TensorFlow backend.\n"
     ]
    }
   ],
   "source": [
    "#Importing all the libraries needed.\n",
    "import pandas as pd\n",
    "import numpy as np\n",
    "import librosa\n",
    "from sklearn.utils import shuffle\n",
    "import pickle\n",
    "import keras\n",
    "from keras.models import Sequential\n",
    "from keras.layers import Dense, Dropout, Flatten, Conv2D, MaxPooling2D,LSTM,TimeDistributed\n",
    "from sklearn.model_selection import train_test_split\n",
    "from sklearn.metrics import accuracy_score\n",
    "import dask.array as da\n",
    "import matplotlib.pyplot as plt\n",
    "import warnings\n",
    "import h5py\n",
    "warnings.filterwarnings(\"ignore\")"
   ]
  },
  {
   "cell_type": "code",
   "execution_count": 21,
   "metadata": {},
   "outputs": [],
   "source": [
    "#Building the CNN-LSTM model.\n",
    "model=Sequential()\n",
    "model.add(TimeDistributed(Conv2D(12, (3,3),activation='relu'),input_shape=(1,513, 87, 1)))\n",
    "model.add(TimeDistributed(MaxPooling2D(2,2)))\n",
    "model.add(TimeDistributed(Dropout(0.3)))\n",
    "model.add(TimeDistributed(Conv2D(32, (3,3),activation='relu'),input_shape=(1,513, 87, 1)))\n",
    "model.add(TimeDistributed(MaxPooling2D(2,2)))\n",
    "model.add(TimeDistributed(Dropout(0.4)))\n",
    "model.add(TimeDistributed(Flatten()))\n",
    "model.add(LSTM(6))\n",
    "model.add(Dropout(0.5))\n",
    "\n",
    "model.add(Dense(1,activation='relu'))\n",
    "model.add(Dropout(0.3))\n",
    "model.add(Dense(1,activation='sigmoid'))\n",
    "model.compile(loss='binary_crossentropy',optimizer='Adam',metrics=['accuracy'])"
   ]
  },
  {
   "cell_type": "code",
   "execution_count": 4,
   "metadata": {},
   "outputs": [],
   "source": [
    "#Opening all the hdf5 dumps created.\n",
    "\n",
    "\n",
    "train1_x=h5py.File('./X_data.hdf5','r')\n",
    "train1_y=h5py.File('./Y_data.hdf5','r')\n",
    "train2_x=h5py.File('./X_data2.hdf5','r')\n",
    "train2_y=h5py.File('./Y_data2.hdf5','r')\n",
    "train3_x=h5py.File('./X_data3.hdf5','r')\n",
    "train3_y=h5py.File('./Y_data3.hdf5','r')\n",
    "train4_x=h5py.File('./X_data4.hdf5','r')\n",
    "train4_y=h5py.File('./Y_data4.hdf5','r')\n",
    "\n",
    "val1_x=h5py.File('./X_val1.hdf5')\n",
    "val1_y=h5py.File('./Y_val1.hdf5')\n"
   ]
  },
  {
   "cell_type": "code",
   "execution_count": 3,
   "metadata": {},
   "outputs": [],
   "source": [
    "#Building the batch generator.\n",
    "def batch_generator_val(batch_size):\n",
    "    while True:\n",
    "        data=[]\n",
    "        label=[]\n",
    "\n",
    "        random_idxs=np.random.randint(0,len(val1_x['results']),batch_size)\n",
    "        for idx in random_idxs:\n",
    "            dt_x=np.array(val1_x['results'][idx])\n",
    "            dt_y=np.array(val1_y['results'][idx])\n",
    "            data.append(dt_x)\n",
    "            label.append(dt_y)\n",
    "        yield np.array(data),np.array(label)\n",
    "        \n",
    "     \n",
    "\n",
    "def batch_generator_train(batch_size):\n",
    "    while True:\n",
    "        data=[]\n",
    "        label=[]\n",
    "        \n",
    "        rdm=np.random.randint(0,4)\n",
    "        if rdm==0:\n",
    "            random_idxs=np.random.randint(0,len(train1_x['results']),batch_size)\n",
    "            for idx in random_idxs:\n",
    "                dt_x=np.array(train1_x['results'][idx])\n",
    "                dt_y=np.array(train1_y['results'][idx])\n",
    "                data.append(dt_x)\n",
    "                label.append(dt_y)\n",
    "        elif rdm==1:\n",
    "            random_idxs=np.random.randint(0,len(train3_x['results']),batch_size)\n",
    "            for idx in random_idxs:\n",
    "                dt_x=np.array(train3_x['results'][idx])\n",
    "                dt_y=np.array(train3_y['results'][idx])\n",
    "                data.append(dt_x)\n",
    "                label.append(dt_y)\n",
    "        elif rdm==2:\n",
    "            random_idxs=np.random.randint(0,len(train4_x['results']),batch_size)\n",
    "            for idx in random_idxs:\n",
    "                dt_x=np.array(train4_x['results'][idx])\n",
    "                dt_y=np.array(train4_y['results'][idx])\n",
    "                data.append(dt_x)\n",
    "                label.append(dt_y)\n",
    "        else:\n",
    "            random_idxs=np.random.randint(0,len(train2_x['results']),batch_size)\n",
    "            for idx in random_idxs:\n",
    "                dt_x=np.array(train2_x['results'][idx])\n",
    "                dt_y=np.array(train2_y['results'][idx])\n",
    "                data.append(dt_x)\n",
    "                label.append(dt_y)\n",
    "            \n",
    "        yield np.array(data),np.array(label)\n",
    "        \n",
    "        \n"
   ]
  },
  {
   "cell_type": "code",
   "execution_count": 22,
   "metadata": {},
   "outputs": [
    {
     "name": "stdout",
     "output_type": "stream",
     "text": [
      "Epoch 1/12\n",
      "2000/2000 [==============================] - 1116s 558ms/step - loss: 0.5855 - acc: 0.6883 - val_loss: 0.4698 - val_acc: 0.8211\n",
      "Epoch 2/12\n",
      "2000/2000 [==============================] - 1035s 517ms/step - loss: 0.5479 - acc: 0.7231 - val_loss: 0.4801 - val_acc: 0.8277\n",
      "Epoch 3/12\n",
      "2000/2000 [==============================] - 1089s 545ms/step - loss: 0.5398 - acc: 0.7295 - val_loss: 0.4616 - val_acc: 0.8251\n",
      "Epoch 4/12\n",
      "2000/2000 [==============================] - 1128s 564ms/step - loss: 0.5327 - acc: 0.7321 - val_loss: 0.4828 - val_acc: 0.7965\n",
      "Epoch 5/12\n",
      "2000/2000 [==============================] - 1068s 534ms/step - loss: 0.5365 - acc: 0.7298 - val_loss: 0.4513 - val_acc: 0.8331\n",
      "Epoch 6/12\n",
      "2000/2000 [==============================] - 1290s 645ms/step - loss: 0.5305 - acc: 0.7366 - val_loss: 0.4416 - val_acc: 0.8353\n",
      "Epoch 7/12\n",
      "2000/2000 [==============================] - 1179s 589ms/step - loss: 0.5339 - acc: 0.7352 - val_loss: 0.4558 - val_acc: 0.8238\n",
      "Epoch 8/12\n",
      "2000/2000 [==============================] - 1160s 580ms/step - loss: 0.5344 - acc: 0.7360 - val_loss: 0.4486 - val_acc: 0.8379\n",
      "Epoch 9/12\n",
      "2000/2000 [==============================] - 1033s 517ms/step - loss: 0.5293 - acc: 0.7353 - val_loss: 0.4461 - val_acc: 0.8325\n",
      "Epoch 10/12\n",
      "2000/2000 [==============================] - 1021s 511ms/step - loss: 0.5321 - acc: 0.7335 - val_loss: 0.4729 - val_acc: 0.8070\n",
      "Epoch 11/12\n",
      "2000/2000 [==============================] - 1332s 666ms/step - loss: 0.5358 - acc: 0.7301 - val_loss: 0.4800 - val_acc: 0.8191\n",
      "Epoch 12/12\n",
      "2000/2000 [==============================] - 1276s 638ms/step - loss: 0.5338 - acc: 0.7340 - val_loss: 0.4707 - val_acc: 0.8165\n"
     ]
    }
   ],
   "source": [
    "#Trains the model.\n",
    "\n",
    "batch_size=32\n",
    "#train_steps=(len(train1_x['results'])+len(train2_x['results'])+len(train3_x['results'])+len(train4_x['results']))//batch_size\n",
    "train_steps=2000\n",
    "validation_steps=len(val1_x['results'])//batch_size\n",
    "history=model.fit_generator(batch_generator_train(32),steps_per_epoch=train_steps,validation_data=batch_generator_val(32),\n",
    "                    validation_steps=validation_steps,epochs=12,shuffle=True)"
   ]
  },
  {
   "cell_type": "code",
   "execution_count": 25,
   "metadata": {},
   "outputs": [
    {
     "data": {
      "text/plain": [
       "Text(0.5, 0, 'Epoch')"
      ]
     },
     "execution_count": 25,
     "metadata": {},
     "output_type": "execute_result"
    },
    {
     "data": {
      "image/png": "[encoded data removed]",
      "text/plain": [
       "<Figure size 432x288 with 1 Axes>"
      ]
     },
     "metadata": {
      "needs_background": "light"
     },
     "output_type": "display_data"
    }
   ],
   "source": [
    "#Visualising the train and validation loss.\n",
    "%matplotlib inline\n",
    "plt.plot(history.history['loss'])\n",
    "plt.plot(history.history['val_loss'])\n",
    "plt.legend(['training','validation'])\n",
    "plt.title('Loss')\n",
    "plt.xlabel('Epoch')"
   ]
  },
  {
   "cell_type": "code",
   "execution_count": 26,
   "metadata": {},
   "outputs": [],
   "source": [
    "#Saving the model.\n",
    "model.save('HVDv1.h5')"
   ]
  }
 ],
 "metadata": {
  "kernelspec": {
   "display_name": "TensorFlow-GPU",
   "language": "python",
   "name": "tensorflow"
  },
  "language_info": {
   "codemirror_mode": {
    "name": "ipython",
    "version": 3
   },
   "file_extension": ".py",
   "mimetype": "text/x-python",
   "name": "python",
   "nbconvert_exporter": "python",
   "pygments_lexer": "ipython3",
   "version": "3.6.8"
  }
 },
 "nbformat": 4,
 "nbformat_minor": 2
}
